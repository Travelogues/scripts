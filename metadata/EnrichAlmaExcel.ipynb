{
 "cells": [
  {
   "cell_type": "markdown",
   "metadata": {},
   "source": [
    "## Setup\n",
    "download *marc\\_extractor.py* and *almasru.py* from https://labs.onb.ac.at/gitlab/labs-team/catalogue"
   ]
  },
  {
   "cell_type": "code",
   "execution_count": 1,
   "metadata": {},
   "outputs": [],
   "source": [
    "import almasru\n",
    "import marc_extractor\n",
    "import pandas as pd\n",
    "from collections import OrderedDict"
   ]
  },
  {
   "cell_type": "markdown",
   "metadata": {},
   "source": [
    "## Load Mapping\n",
    "load *mapping.csv* used in *marc\\_extractor.py*"
   ]
  },
  {
   "cell_type": "code",
   "execution_count": 2,
   "metadata": {},
   "outputs": [
    {
     "data": {
      "text/html": [
       "<div>\n",
       "<style scoped>\n",
       "    .dataframe tbody tr th:only-of-type {\n",
       "        vertical-align: middle;\n",
       "    }\n",
       "\n",
       "    .dataframe tbody tr th {\n",
       "        vertical-align: top;\n",
       "    }\n",
       "\n",
       "    .dataframe thead th {\n",
       "        text-align: right;\n",
       "    }\n",
       "</style>\n",
       "<table border=\"1\" class=\"dataframe\">\n",
       "  <thead>\n",
       "    <tr style=\"text-align: right;\">\n",
       "      <th></th>\n",
       "      <th>MARC controlfield</th>\n",
       "      <th>MARC extra selector</th>\n",
       "      <th>Liste</th>\n",
       "      <th>Label</th>\n",
       "    </tr>\n",
       "  </thead>\n",
       "  <tbody>\n",
       "    <tr>\n",
       "      <th>25</th>\n",
       "      <td>505 8 0 $$a &gt;505 8 0 $$t</td>\n",
       "      <td></td>\n",
       "      <td></td>\n",
       "      <td>Inhalt</td>\n",
       "    </tr>\n",
       "    <tr>\n",
       "      <th>23</th>\n",
       "      <td>700 1 _ $$a</td>\n",
       "      <td>$$4 dte</td>\n",
       "      <td>;</td>\n",
       "      <td>Widmungsempfänger</td>\n",
       "    </tr>\n",
       "    <tr>\n",
       "      <th>22</th>\n",
       "      <td>700 1 _ $$a ; 700 1 _ $$a</td>\n",
       "      <td>$$4 egr ; $$4 ill</td>\n",
       "      <td>;</td>\n",
       "      <td>Illustratoren</td>\n",
       "    </tr>\n",
       "  </tbody>\n",
       "</table>\n",
       "</div>"
      ],
      "text/plain": [
       "            MARC controlfield MARC extra selector Liste              Label\n",
       "25   505 8 0 $$a >505 8 0 $$t                                       Inhalt\n",
       "23                700 1 _ $$a             $$4 dte     ;  Widmungsempfänger\n",
       "22  700 1 _ $$a ; 700 1 _ $$a   $$4 egr ; $$4 ill     ;      Illustratoren"
      ]
     },
     "execution_count": 2,
     "metadata": {},
     "output_type": "execute_result"
    }
   ],
   "source": [
    "mapping = pd.read_csv('mapping.csv', keep_default_na=False)\n",
    "mapping.sample(3)"
   ]
  },
  {
   "cell_type": "markdown",
   "metadata": {},
   "source": [
    "## Build Extractors\n",
    "create Extractors for all mapping entries"
   ]
  },
  {
   "cell_type": "code",
   "execution_count": 3,
   "metadata": {},
   "outputs": [
    {
     "name": "stdout",
     "output_type": "stream",
     "text": [
      "Initializing SingleCommand for pattern \"009\"\n",
      "Initializing SingleCommand for pattern \"001\"\n",
      "Initializing SingleCommand for pattern \"856 4 0 $$u\"\n",
      "Initializing SingleCommand for pattern \"100 1 _ $$a\"\n",
      "Initializing SingleCommand for pattern \"100 1 _ $$0\"\n",
      "Initializing SingleCommand for pattern \"240 1 0 $$a\"\n",
      "Initializing SingleCommand for pattern \"130 0 _ $$a\"\n",
      "Initializing SingleCommand for pattern \"490 1 _ $$a\"\n",
      "Initializing SingleCommand for pattern \"490 1 _ $$v\"\n",
      "Initializing SingleCommand for pattern \"245 0 0 $$a\"\n",
      "Initializing SingleCommand for pattern \"245 0 0 $$b\"\n",
      "Initializing SingleCommand for pattern \"245 0 0 $$n\"\n",
      "Initializing SingleCommand for pattern \"245 0 0 $$p\"\n",
      "Initializing SingleCommand for pattern \"264 _ 1 $$a\"\n",
      "Initializing SingleCommand for pattern \"751 _ _ $$0\"\n",
      "   collecting all results separated by \";\"\n",
      "Initializing SingleCommand for pattern \"264 _ 1 $$b\"\n",
      "Initializing SingleCommand for pattern \"700 1 _ $$a\"\n",
      "   with selector $$4 pbl\n",
      "  Initializing SelectorPredicate for selector \"$$4 pbl\"\n",
      "   collecting all results separated by \";\"\n",
      "Initializing SingleCommand for pattern \"700 1 _ $$a\"\n",
      "   with selector $$4 prt\n",
      "  Initializing SelectorPredicate for selector \"$$4 prt\"\n",
      "Initializing SingleCommand for pattern \"264 _ 1 $$c\"\n",
      "Initializing SingleCommand for pattern \"264 _ 3 $$c\"\n",
      "Initializing SingleCommand for pattern \"300 _ _ $$a\"\n",
      "Initializing SingleCommand for pattern \"300 _ _ $$b\"\n",
      "Initializing SingleCommand for pattern \"300 _ _ $$c\"\n",
      "Initializing SingleCommand for pattern \"500 _ _ $$a\"\n",
      "   collecting all results separated by \";;;\"\n",
      "Initializing SingleCommand for pattern \"041 1 _ $$a\"\n",
      "   collecting all results separated by \";\"\n",
      "Initializing SingleCommand for pattern \"041 _ _ $$a\"\n",
      "   collecting all results separated by \";\"\n",
      "Initializing SingleCommand for pattern \"041 1 _ $$h\"\n",
      "Initializing SingleCommand for pattern \"024 7 _ $$a\"\n",
      "Initializing SingleCommand for pattern \"700 1 _ $$a\"\n",
      "   with selector $$4 edt\n",
      "  Initializing SelectorPredicate for selector \"$$4 edt\"\n",
      "   collecting all results separated by \";\"\n",
      "Initializing SingleCommand for pattern \"700 1 _ $$a\"\n",
      "   with selector $$4 ctb\n",
      "  Initializing SelectorPredicate for selector \"$$4 ctb\"\n",
      "   collecting all results separated by \";\"\n",
      "Initializing SingleCommand for pattern \"700 1 _ $$a\"\n",
      "   with selector $$4 oth\n",
      "  Initializing SelectorPredicate for selector \"$$4 oth\"\n",
      "   collecting all results separated by \";\"\n",
      "Initializing SingleCommand for pattern \"700 1 _ $$a\"\n",
      "   with selector $$4 com\n",
      "  Initializing SelectorPredicate for selector \"$$4 com\"\n",
      "   collecting all results separated by \";\"\n",
      "Initializing SingleCommand for pattern \"700 1 _ $$a\"\n",
      "   with selector $$4 egr\n",
      "  Initializing SelectorPredicate for selector \"$$4 egr\"\n",
      "   collecting all results separated by \";\"\n",
      "Initializing SingleCommand for pattern \"700 1 _ $$a\"\n",
      "   with selector $$4 ill\n",
      "  Initializing SelectorPredicate for selector \"$$4 ill\"\n",
      "   collecting all results separated by \";\"\n",
      "Initializing SingleCommand for pattern \"700 1 _ $$a\"\n",
      "   with selector $$4 dte\n",
      "  Initializing SelectorPredicate for selector \"$$4 dte\"\n",
      "   collecting all results separated by \";\"\n",
      "Initializing SingleCommand for pattern \"655 _ 7 $$a\"\n",
      "   collecting all results separated by \";\"\n",
      "Initializing SingleCommand for pattern \"505 8 0 $$a\"\n",
      "Initializing SingleCommand for pattern \"505 8 0 $$t\"\n",
      "Initializing SingleCommand for pattern \"689 * * $$a\"\n",
      "   collecting all results separated by \";\"\n",
      "Initializing SingleCommand for pattern \"AVA _ _ $$d\"\n",
      "Initializing SingleCommand for pattern \"AVA _ _ $$i\"\n",
      "Initializing SingleCommand for pattern \"AVA _ _ $$j\"\n"
     ]
    }
   ],
   "source": [
    "column_extractors = OrderedDict()\n",
    "for _, row in mapping.iterrows():\n",
    "    column_extractors[row[3]] = marc_extractor.build_extractor(row[0], row[1], row[2])"
   ]
  },
  {
   "cell_type": "markdown",
   "metadata": {},
   "source": [
    "## Prepare Postprocessing\n",
    "- col\\_to\\_split ???\n",
    "- remove ; from Signatur\n",
    "- add Barcode"
   ]
  },
  {
   "cell_type": "code",
   "execution_count": 4,
   "metadata": {},
   "outputs": [],
   "source": [
    "split_char = ' ;;; '\n",
    "col_to_split = 'Anm. zu Illustrationen ;;;\\xa0Anm. zu Kollation ;;;\\xa0Bibliografie ;;;\\xa0Anmerkungen'\n",
    "column_replacement = {\n",
    "    0: 'Anm. zu Illustrationen',\n",
    "    1: 'Anm. zu Kollation',\n",
    "    2: 'Bibliografie',\n",
    "    3: 'Anmerkungen'\n",
    "}\n",
    "\n",
    "def post(df):\n",
    "    df_out = pd.concat([df, df[col_to_split].str.split(split_char, expand=True).rename(columns=column_replacement)], axis='columns')\n",
    "    df_out = df_out.drop(labels=[col_to_split], axis='columns').copy()\n",
    "    df_out['Signatur'] = df_out['Signatur'].str.replace(';', '')\n",
    "    df_out['Barcode'] = '+Z' + df_out['Volltext'].str.extract(r'http://data.onb.ac.at/ABO/%2BZ(.*)')\n",
    "    return df_out"
   ]
  },
  {
   "cell_type": "markdown",
   "metadata": {},
   "source": [
    "## Prepare Extraction"
   ]
  },
  {
   "cell_type": "code",
   "execution_count": 5,
   "metadata": {},
   "outputs": [],
   "source": [
    "import datetime\n",
    "import sys\n",
    "import re\n",
    "\n",
    "def now():\n",
    "    now = datetime.datetime.now()\n",
    "    now_s = now.isoformat()\n",
    "    now_without_micros = now_s.split('.')[0]\n",
    "    now_without_colons = now_without_micros.replace(':', '')\n",
    "    return now_without_colons\n",
    "\n",
    "def ac_to_dict(ac):\n",
    "    try:\n",
    "        print(f' {ac} processing')\n",
    "        marc_xml = almasru.RecordRetriever('obv-at-oenb', '43ACC_ONB', 'marcxml').by_marc_009(ac)\n",
    "    except almasru.NoRecord:\n",
    "        print(f'No record for AC number {ac} found.', file=sys.stderr)\n",
    "        d = OrderedDict()\n",
    "        for column, _ in column_extractors.items():\n",
    "            d[column] = None\n",
    "        return d\n",
    "    d = OrderedDict()\n",
    "    for column, extractor in column_extractors.items():\n",
    "        d[column] = extractor.parse(marc_xml)\n",
    "    return d\n",
    "\n",
    "def ac_list_to_excel(ac_list, excel_file_name_stem):\n",
    "    data = [ ac_to_dict(ac) for ac in ac_list ]\n",
    "    df = pd.DataFrame(data)\n",
    "    df_post = post(df)\n",
    "    df_post.to_excel(f'{excel_file_name_stem} {now()}.xlsx')\n",
    "\n",
    "ac_pattern = re.compile(r'(AC\\d{7,8})')\n",
    "def load_ac_list(file_name):\n",
    "    return pd.read_excel(file_name)['Datensatznummer'].apply(lambda s: ac_pattern.findall(s)[0])"
   ]
  },
  {
   "cell_type": "markdown",
   "metadata": {},
   "source": [
    "## Extraction\n",
    "1. load input Excel (*load_ac_list*)\n",
    "2. enrich input Excel (*ac_list_to_excel*)\n"
   ]
  },
  {
   "cell_type": "code",
   "execution_count": 6,
   "metadata": {},
   "outputs": [
    {
     "name": "stdout",
     "output_type": "stream",
     "text": [
      " AC05861671 processing\n",
      " AC13796079 processing\n",
      " AC14473154 processing\n",
      " AC15257577 processing\n",
      " AC15353248 processing\n",
      " AC07530148 processing\n",
      " AC10134690 processing\n",
      " AC10356133 processing\n",
      " AC10472044 processing\n"
     ]
    }
   ],
   "source": [
    "ac_list_to_excel(load_ac_list('TravelogueD17_Japan.xlsx'),'TravelogueD17_Japan_Enriched')"
   ]
  },
  {
   "cell_type": "code",
   "execution_count": null,
   "metadata": {},
   "outputs": [],
   "source": []
  }
 ],
 "metadata": {
  "kernelspec": {
   "display_name": "Python 3",
   "language": "python",
   "name": "python3"
  },
  "language_info": {
   "codemirror_mode": {
    "name": "ipython",
    "version": 3
   },
   "file_extension": ".py",
   "mimetype": "text/x-python",
   "name": "python",
   "nbconvert_exporter": "python",
   "pygments_lexer": "ipython3",
   "version": "3.6.8"
  }
 },
 "nbformat": 4,
 "nbformat_minor": 2
}
